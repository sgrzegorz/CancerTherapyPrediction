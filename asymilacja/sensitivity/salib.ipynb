{
 "cells": [
  {
   "cell_type": "code",
   "execution_count": 1,
   "id": "8c514972",
   "metadata": {},
   "outputs": [
    {
     "name": "stdout",
     "output_type": "stream",
     "text": [
      "\n",
      "Warning: You have not disableed interactive/live plotting in your dpr_config.yaml, but this is not supported by the current matplotlib backend: module://matplotlib_inline.backend_inline. To enable it, try using another backend.\n",
      "\n",
      "/home/x/doc/dev/master/CancerTherapyPrediction\n"
     ]
    },
    {
     "name": "stderr",
     "output_type": "stream",
     "text": [
      "/home/x/doc/dev/master/DAPPER/dapper/tools/progressbar.py:140: UserWarning: Keyboard interaction (to skip/stop/pause the liveplotting) does not work in the current python frontend. If you wish, you can use dpr_config.yaml to disable the liveplotting altogether, which will silence this message.\n",
      "  _interaction_impossible()\n"
     ]
    }
   ],
   "source": [
    "import pandas as pd\n",
    "import dapper\n",
    "import matplotlib.pyplot as plt\n",
    "from definitions import ROOT_DIR\n",
    "%cd $ROOT_DIR"
   ]
  },
  {
   "cell_type": "code",
   "execution_count": 3,
   "id": "4184fcd7",
   "metadata": {},
   "outputs": [
    {
     "name": "stderr",
     "output_type": "stream",
     "text": [
      "/tmp/ipykernel_10469/88979792.py:4: FutureWarning: In a future version of pandas all arguments of DataFrame.drop except for the argument 'labels' will be keyword-only.\n",
      "  df = df.drop('ALIVE_CELLS', 1)\n",
      "/tmp/ipykernel_10469/88979792.py:5: FutureWarning: In a future version of pandas all arguments of DataFrame.drop except for the argument 'labels' will be keyword-only.\n",
      "  df = df.drop('SILENT_CELLS', 1)\n"
     ]
    },
    {
     "data": {
      "text/plain": "     ITERATION  DEAD_CELLS  NUMBER_OF_ARTERY_GIVING_OXYGEN    VOLUME  \\\n0            0           0                           29135  0.022627   \n1          100           0                           29135  0.122376   \n2          200           0                           29135  0.122376   \n3          300           0                           29135  0.153362   \n4          400           0                           29135  0.191625   \n..         ...         ...                             ...       ...   \n196      19600         492                           29577  5.918360   \n197      19700         508                           29570  5.918360   \n198      19800         531                           29570  5.918360   \n199      19900         551                           29570  5.918360   \n200      20000         571                           29566  5.930990   \n\n     PROL_CELLS  \n0             7  \n1             7  \n2             7  \n3            12  \n4            12  \n..          ...  \n196     1411186  \n197     1416221  \n198     1421063  \n199     1426017  \n200     1430936  \n\n[201 rows x 5 columns]",
      "text/html": "<div>\n<style scoped>\n    .dataframe tbody tr th:only-of-type {\n        vertical-align: middle;\n    }\n\n    .dataframe tbody tr th {\n        vertical-align: top;\n    }\n\n    .dataframe thead th {\n        text-align: right;\n    }\n</style>\n<table border=\"1\" class=\"dataframe\">\n  <thead>\n    <tr style=\"text-align: right;\">\n      <th></th>\n      <th>ITERATION</th>\n      <th>DEAD_CELLS</th>\n      <th>NUMBER_OF_ARTERY_GIVING_OXYGEN</th>\n      <th>VOLUME</th>\n      <th>PROL_CELLS</th>\n    </tr>\n  </thead>\n  <tbody>\n    <tr>\n      <th>0</th>\n      <td>0</td>\n      <td>0</td>\n      <td>29135</td>\n      <td>0.022627</td>\n      <td>7</td>\n    </tr>\n    <tr>\n      <th>1</th>\n      <td>100</td>\n      <td>0</td>\n      <td>29135</td>\n      <td>0.122376</td>\n      <td>7</td>\n    </tr>\n    <tr>\n      <th>2</th>\n      <td>200</td>\n      <td>0</td>\n      <td>29135</td>\n      <td>0.122376</td>\n      <td>7</td>\n    </tr>\n    <tr>\n      <th>3</th>\n      <td>300</td>\n      <td>0</td>\n      <td>29135</td>\n      <td>0.153362</td>\n      <td>12</td>\n    </tr>\n    <tr>\n      <th>4</th>\n      <td>400</td>\n      <td>0</td>\n      <td>29135</td>\n      <td>0.191625</td>\n      <td>12</td>\n    </tr>\n    <tr>\n      <th>...</th>\n      <td>...</td>\n      <td>...</td>\n      <td>...</td>\n      <td>...</td>\n      <td>...</td>\n    </tr>\n    <tr>\n      <th>196</th>\n      <td>19600</td>\n      <td>492</td>\n      <td>29577</td>\n      <td>5.918360</td>\n      <td>1411186</td>\n    </tr>\n    <tr>\n      <th>197</th>\n      <td>19700</td>\n      <td>508</td>\n      <td>29570</td>\n      <td>5.918360</td>\n      <td>1416221</td>\n    </tr>\n    <tr>\n      <th>198</th>\n      <td>19800</td>\n      <td>531</td>\n      <td>29570</td>\n      <td>5.918360</td>\n      <td>1421063</td>\n    </tr>\n    <tr>\n      <th>199</th>\n      <td>19900</td>\n      <td>551</td>\n      <td>29570</td>\n      <td>5.918360</td>\n      <td>1426017</td>\n    </tr>\n    <tr>\n      <th>200</th>\n      <td>20000</td>\n      <td>571</td>\n      <td>29566</td>\n      <td>5.930990</td>\n      <td>1430936</td>\n    </tr>\n  </tbody>\n</table>\n<p>201 rows × 5 columns</p>\n</div>"
     },
     "execution_count": 3,
     "metadata": {},
     "output_type": "execute_result"
    }
   ],
   "source": [
    "\n",
    "header = ['ITERATION', 'ALIVE_CELLS',  'SILENT_CELLS' , 'DEAD_CELLS',  'NUMBER_OF_ARTERY_GIVING_OXYGEN', 'VOLUME']\n",
    "df = pd.read_csv ('data/klusek/stats0.txt',sep=' ',names=header,skiprows=1)\n",
    "df['PROL_CELLS'] = df['ALIVE_CELLS'] + df['SILENT_CELLS']\n",
    "df = df.drop('ALIVE_CELLS', 1)\n",
    "df = df.drop('SILENT_CELLS', 1)\n",
    "df"
   ]
  },
  {
   "cell_type": "code",
   "execution_count": 4,
   "id": "f375c139",
   "metadata": {},
   "outputs": [
    {
     "data": {
      "text/plain": "[<matplotlib.lines.Line2D at 0x7faef121c2e0>,\n <matplotlib.lines.Line2D at 0x7faef121c430>,\n <matplotlib.lines.Line2D at 0x7faef121c4f0>,\n <matplotlib.lines.Line2D at 0x7faef121c5b0>,\n <matplotlib.lines.Line2D at 0x7faef121c670>]"
     },
     "execution_count": 4,
     "metadata": {},
     "output_type": "execute_result"
    },
    {
     "data": {
      "text/plain": "<Figure size 432x288 with 1 Axes>",
      "image/png": "[encoded data removed]"
     },
     "metadata": {
      "needs_background": "light"
     },
     "output_type": "display_data"
    }
   ],
   "source": [
    "# Data assimilation is typically a sequence time-stepping procedure, in which a previous model forecast is\n",
    "# compared with newly received observations, the model state is then updated to reflect the observations\n",
    "# a new forecast is initiated and so on.\n",
    "\n",
    "plt.plot(df)\n"
   ]
  },
  {
   "cell_type": "markdown",
   "id": "c87fe119-fea9-437d-bc71-73b7f98a1d24",
   "metadata": {},
   "source": [
    "# Find paramters using SALib"
   ]
  },
  {
   "cell_type": "code",
   "execution_count": 4,
   "id": "d2e197e1-2e84-475e-b4df-81b940483ce8",
   "metadata": {},
   "outputs": [],
   "source": [
    "from SALib.sample import saltelli\n",
    "from SALib.analyze import sobol\n",
    "from SALib.test_functions import Ishigami\n",
    "import numpy as np"
   ]
  },
  {
   "cell_type": "code",
   "execution_count": 5,
   "id": "3d3080ad-5253-4292-b147-4cb947898994",
   "metadata": {},
   "outputs": [
    {
     "ename": "NameError",
     "evalue": "name 'Y' is not defined",
     "output_type": "error",
     "traceback": [
      "\u001B[0;31m---------------------------------------------------------------------------\u001B[0m",
      "\u001B[0;31mNameError\u001B[0m                                 Traceback (most recent call last)",
      "\u001B[0;32m/tmp/ipykernel_14097/3937083421.py\u001B[0m in \u001B[0;36m<module>\u001B[0;34m\u001B[0m\n\u001B[1;32m     10\u001B[0m \u001B[0mparam_values\u001B[0m\u001B[0;34m.\u001B[0m\u001B[0mshape\u001B[0m\u001B[0;34m\u001B[0m\u001B[0;34m\u001B[0m\u001B[0m\n\u001B[1;32m     11\u001B[0m \u001B[0;34m\u001B[0m\u001B[0m\n\u001B[0;32m---> 12\u001B[0;31m \u001B[0mSi\u001B[0m \u001B[0;34m=\u001B[0m \u001B[0msobol\u001B[0m\u001B[0;34m.\u001B[0m\u001B[0manalyze\u001B[0m\u001B[0;34m(\u001B[0m\u001B[0mproblem\u001B[0m\u001B[0;34m,\u001B[0m \u001B[0mY\u001B[0m\u001B[0;34m)\u001B[0m\u001B[0;34m\u001B[0m\u001B[0;34m\u001B[0m\u001B[0m\n\u001B[0m",
      "\u001B[0;31mNameError\u001B[0m: name 'Y' is not defined"
     ]
    }
   ],
   "source": [
    "problem = {\n",
    "    'num_vars': 3,\n",
    "    'names': ['x1', 'x2', 'x3'],\n",
    "    'bounds': [[-3.14159265359, 3.14159265359],\n",
    "               [-3.14159265359, 3.14159265359],\n",
    "               [-3.14159265359, 3.14159265359]]\n",
    "}\n",
    "\n",
    "param_values = saltelli.sample(problem, 1024)\n",
    "param_values.shape\n",
    "\n",
    "Si = sobol.analyze(problem, Y)\n"
   ]
  },
  {
   "cell_type": "code",
   "execution_count": null,
   "id": "e3b11ffb-e354-401e-b10f-7d66325c951c",
   "metadata": {},
   "outputs": [],
   "source": []
  },
  {
   "cell_type": "code",
   "execution_count": null,
   "id": "c5422fcc-5ed4-4008-affa-3b5f02300dd4",
   "metadata": {},
   "outputs": [],
   "source": []
  }
 ],
 "metadata": {
  "kernelspec": {
   "display_name": "Python [conda env:dapper-env]",
   "language": "python",
   "name": "conda-env-dapper-env-py"
  },
  "language_info": {
   "codemirror_mode": {
    "name": "ipython",
    "version": 3
   },
   "file_extension": ".py",
   "mimetype": "text/x-python",
   "name": "python",
   "nbconvert_exporter": "python",
   "pygments_lexer": "ipython3",
   "version": "3.8.12"
  }
 },
 "nbformat": 4,
 "nbformat_minor": 5
}