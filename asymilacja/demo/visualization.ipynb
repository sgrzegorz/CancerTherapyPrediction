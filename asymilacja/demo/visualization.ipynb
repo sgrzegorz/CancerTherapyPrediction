{
 "cells": [
  {
   "cell_type": "code",
   "execution_count": 1,
   "id": "c190c809",
   "metadata": {
    "pycharm": {
     "name": "#%%\n"
    }
   },
   "outputs": [
    {
     "name": "stdout",
     "output_type": "stream",
     "text": [
      "/home/x/doc/dev/master/CancerTherapyPrediction\n"
     ]
    },
    {
     "data": {
      "text/plain": "<Figure size 432x288 with 1 Axes>",
      "image/png": "[encoded data removed]"
     },
     "metadata": {
      "needs_background": "light"
     },
     "output_type": "display_data"
    },
    {
     "name": "stdout",
     "output_type": "stream",
     "text": [
      "total = ALIVE_CELLS + QUIESCENT_CELLS + DEAD_CELLS\n",
      "\n"
     ]
    },
    {
     "ename": "NameError",
     "evalue": "name 'start' is not defined",
     "output_type": "error",
     "traceback": [
      "\u001B[0;31m---------------------------------------------------------------------------\u001B[0m",
      "\u001B[0;31mNameError\u001B[0m                                 Traceback (most recent call last)",
      "\u001B[0;32m/tmp/ipykernel_116784/3594259598.py\u001B[0m in \u001B[0;36m<module>\u001B[0;34m\u001B[0m\n\u001B[1;32m     31\u001B[0m \u001B[0mprint\u001B[0m\u001B[0;34m(\u001B[0m\u001B[0;34m'total = ALIVE_CELLS + QUIESCENT_CELLS + DEAD_CELLS'\u001B[0m\u001B[0;34m)\u001B[0m\u001B[0;34m\u001B[0m\u001B[0;34m\u001B[0m\u001B[0m\n\u001B[1;32m     32\u001B[0m \u001B[0mprint\u001B[0m\u001B[0;34m(\u001B[0m\u001B[0;34m''\u001B[0m\u001B[0;34m)\u001B[0m\u001B[0;34m\u001B[0m\u001B[0;34m\u001B[0m\u001B[0m\n\u001B[0;32m---> 33\u001B[0;31m \u001B[0mtime_from_start\u001B[0m \u001B[0;34m=\u001B[0m \u001B[0mround\u001B[0m\u001B[0;34m(\u001B[0m\u001B[0;34m(\u001B[0m\u001B[0mtime\u001B[0m\u001B[0;34m(\u001B[0m\u001B[0;34m)\u001B[0m\u001B[0;34m-\u001B[0m\u001B[0mstart\u001B[0m\u001B[0;34m)\u001B[0m\u001B[0;34m/\u001B[0m\u001B[0;36m60\u001B[0m\u001B[0;34m,\u001B[0m\u001B[0;36m2\u001B[0m\u001B[0;34m)\u001B[0m\u001B[0;34m\u001B[0m\u001B[0;34m\u001B[0m\u001B[0m\n\u001B[0m\u001B[1;32m     34\u001B[0m \u001B[0mprint\u001B[0m\u001B[0;34m(\u001B[0m\u001B[0;34mf\"{time_from_start} min\"\u001B[0m\u001B[0;34m)\u001B[0m\u001B[0;34m\u001B[0m\u001B[0;34m\u001B[0m\u001B[0m\n\u001B[1;32m     35\u001B[0m \u001B[0;34m\u001B[0m\u001B[0m\n",
      "\u001B[0;31mNameError\u001B[0m: name 'start' is not defined"
     ]
    }
   ],
   "source": [
    "import pandas as pd\n",
    "import matplotlib.pyplot as plt\n",
    "from time import sleep\n",
    "from IPython.display import clear_output\n",
    "from time import time\n",
    "from definitions import ROOT_DIR\n",
    "%cd $ROOT_DIR\n",
    "\n",
    "\n",
    "header = ['ITERATION', 'ALIVE_CELLS',  'SILENT_CELLS' , 'DEAD_CELLS',  'NUMBER_OF_ARTERY_GIVING_OXYGEN', 'MTD','CUREMENT']\n",
    "df = pd.read_csv ('data/klusek/patient4/2dawki.csv',sep=' ',names=header,skiprows=1)\n",
    "if len(df) < 2:\n",
    "    start = time()\n",
    "# print(df)\n",
    "\n",
    "x =df['ITERATION']\n",
    "plt.plot(x, df['ALIVE_CELLS'], label = \"ALIVE_CELLS\")\n",
    "plt.plot(x, df['SILENT_CELLS'], label = \"QUIESCENT_CELLS\")\n",
    "# plt.plot(x, df['ALIVE_CELLS'] + df['SILENT_CELLS'], label = \"silent + alive\")\n",
    "\n",
    "plt.plot(x, df['DEAD_CELLS'], label = \"DEAD_CELLS\")\n",
    "#     plt.plot(x, df['DEAD_CELLS']+df['SILENT_CELLS']+df['ALIVE_CELLS'], label = \"total\")\n",
    "plt.title('Podawanie lekarstwa')\n",
    "plt.xlabel('nr iteracji')\n",
    "plt.ylabel('ilość komórek nowotworowych')\n",
    "\n",
    "\n",
    "\n",
    "plt.legend()\n",
    "plt.show()\n",
    "print('total = ALIVE_CELLS + QUIESCENT_CELLS + DEAD_CELLS')\n",
    "print('')\n",
    "time_from_start = round((time()-start)/60,2)\n",
    "print(f\"{time_from_start} min\")\n",
    "\n",
    "\n",
    "plt.plot(x, df['MTD'], label = \"mean tumor volume\")\n",
    "plt.title('Objętość nowotworu')\n",
    "plt.xlabel('nr iteracji')\n",
    "plt.ylabel('volume [mm]')\n",
    "\n",
    "\n",
    "plt.legend()\n",
    "\n",
    "plt.show()\n",
    "    \n",
    "\n"
   ]
  },
  {
   "cell_type": "code",
   "execution_count": 21,
   "id": "28d9e4bd",
   "metadata": {
    "pycharm": {
     "name": "#%%\n"
    }
   },
   "outputs": [
    {
     "data": {
      "text/plain": [
       "1"
      ]
     },
     "execution_count": 21,
     "metadata": {},
     "output_type": "execute_result"
    }
   ],
   "source": [
    "len(df) < 0:\n",
    "    \n"
   ]
  },
  {
   "cell_type": "code",
   "execution_count": null,
   "id": "9a1c0cc6",
   "metadata": {
    "pycharm": {
     "name": "#%%\n"
    }
   },
   "outputs": [],
   "source": []
  }
 ],
 "metadata": {
  "kernelspec": {
   "display_name": "Python [conda env:ml]",
   "language": "python",
   "name": "conda-env-ml-py"
  },
  "language_info": {
   "codemirror_mode": {
    "name": "ipython",
    "version": 3
   },
   "file_extension": ".py",
   "mimetype": "text/x-python",
   "name": "python",
   "nbconvert_exporter": "python",
   "pygments_lexer": "ipython3",
   "version": "3.9.7"
  }
 },
 "nbformat": 4,
 "nbformat_minor": 5
}