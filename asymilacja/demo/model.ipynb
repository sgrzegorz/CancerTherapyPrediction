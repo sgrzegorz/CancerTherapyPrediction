{
 "cells": [
  {
   "cell_type": "code",
   "execution_count": 7,
   "id": "1bbdd0b3",
   "metadata": {
    "pycharm": {
     "name": "#%%\n"
    }
   },
   "outputs": [
    {
     "name": "stdout",
     "output_type": "stream",
     "text": [
      "/home/x/doc/dev/master/CancerTherapyPrediction\n"
     ]
    }
   ],
   "source": [
    "import numpy as np\n",
    "from scipy.integrate import odeint\n",
    "import matplotlib.pyplot as plt\n",
    "import pandas as pd\n",
    "import math\n",
    "pd.options.mode.chained_assignment = None  # default='warn'\n",
    "from definitions import ROOT_DIR\n",
    "%cd $ROOT_DIR\n"
   ]
  },
  {
   "cell_type": "markdown",
   "id": "703350ee",
   "metadata": {
    "pycharm": {
     "name": "#%% md\n"
    }
   },
   "source": [
    "przepisać równanie ribby\n",
    "skopiować dane ribby dotyczące chorych"
   ]
  },
  {
   "cell_type": "code",
   "execution_count": 8,
   "id": "b2f0619d",
   "metadata": {
    "pycharm": {
     "name": "#%%\n"
    }
   },
   "outputs": [
    {
     "data": {
      "text/plain": "array([0, 1, 2, 3])"
     },
     "execution_count": 8,
     "metadata": {},
     "output_type": "execute_result"
    }
   ],
   "source": [
    "\n",
    "# df =  pd.read_csv('data/fig1_mtd_pcv_00.csv',names = ['t','mtd','id'],header=None)\n",
    "\n",
    "df =  pd.read_csv('data/ribba/fig1_mtd_pcv_00.csv',names = ['t','mtd','id'])\n",
    "df1 = pd.read_csv('data/ribba/fig1_mtd_pcv_01.csv',names = ['t','mtd','id'])\n",
    "df.id.unique()"
   ]
  },
  {
   "cell_type": "code",
   "execution_count": 9,
   "id": "32191e22",
   "metadata": {
    "pycharm": {
     "name": "#%%\n"
    }
   },
   "outputs": [
    {
     "data": {
      "text/plain": "array([201, 202, 203, 204, 205, 206])"
     },
     "execution_count": 9,
     "metadata": {},
     "output_type": "execute_result"
    }
   ],
   "source": [
    "df1.id.unique()"
   ]
  },
  {
   "cell_type": "code",
   "execution_count": 10,
   "id": "7e4ffa96",
   "metadata": {
    "pycharm": {
     "name": "#%%\n"
    }
   },
   "outputs": [
    {
     "ename": "IndexError",
     "evalue": "index 3 is out of bounds for axis 1 with size 3",
     "output_type": "error",
     "traceback": [
      "\u001B[0;31m---------------------------------------------------------------------------\u001B[0m",
      "\u001B[0;31mIndexError\u001B[0m                                Traceback (most recent call last)",
      "\u001B[0;32m/tmp/ipykernel_31024/3735548920.py\u001B[0m in \u001B[0;36m<module>\u001B[0;34m\u001B[0m\n\u001B[1;32m     23\u001B[0m \u001B[0mplt\u001B[0m\u001B[0;34m.\u001B[0m\u001B[0mplot\u001B[0m\u001B[0;34m(\u001B[0m\u001B[0mt\u001B[0m\u001B[0;34m,\u001B[0m\u001B[0my\u001B[0m\u001B[0;34m[\u001B[0m\u001B[0;34m:\u001B[0m\u001B[0;34m,\u001B[0m\u001B[0;36m1\u001B[0m\u001B[0;34m]\u001B[0m\u001B[0;34m,\u001B[0m\u001B[0mlabel\u001B[0m\u001B[0;34m=\u001B[0m\u001B[0;34m\"Q\"\u001B[0m\u001B[0;34m)\u001B[0m\u001B[0;34m\u001B[0m\u001B[0;34m\u001B[0m\u001B[0m\n\u001B[1;32m     24\u001B[0m \u001B[0mplt\u001B[0m\u001B[0;34m.\u001B[0m\u001B[0mplot\u001B[0m\u001B[0;34m(\u001B[0m\u001B[0mt\u001B[0m\u001B[0;34m,\u001B[0m\u001B[0my\u001B[0m\u001B[0;34m[\u001B[0m\u001B[0;34m:\u001B[0m\u001B[0;34m,\u001B[0m\u001B[0;36m2\u001B[0m\u001B[0;34m]\u001B[0m\u001B[0;34m,\u001B[0m\u001B[0mlabel\u001B[0m\u001B[0;34m=\u001B[0m\u001B[0;34m\"Q_p\"\u001B[0m\u001B[0;34m)\u001B[0m\u001B[0;34m\u001B[0m\u001B[0;34m\u001B[0m\u001B[0m\n\u001B[0;32m---> 25\u001B[0;31m \u001B[0mplt\u001B[0m\u001B[0;34m.\u001B[0m\u001B[0mplot\u001B[0m\u001B[0;34m(\u001B[0m\u001B[0mt\u001B[0m\u001B[0;34m,\u001B[0m\u001B[0my\u001B[0m\u001B[0;34m[\u001B[0m\u001B[0;34m:\u001B[0m\u001B[0;34m,\u001B[0m\u001B[0;36m3\u001B[0m\u001B[0;34m]\u001B[0m\u001B[0;34m,\u001B[0m\u001B[0mlabel\u001B[0m\u001B[0;34m=\u001B[0m\u001B[0;34m\"C\"\u001B[0m\u001B[0;34m)\u001B[0m\u001B[0;34m\u001B[0m\u001B[0;34m\u001B[0m\u001B[0m\n\u001B[0m\u001B[1;32m     26\u001B[0m \u001B[0;34m\u001B[0m\u001B[0m\n\u001B[1;32m     27\u001B[0m \u001B[0;34m\u001B[0m\u001B[0m\n",
      "\u001B[0;31mIndexError\u001B[0m: index 3 is out of bounds for axis 1 with size 3"
     ]
    },
    {
     "data": {
      "text/plain": "<Figure size 432x288 with 1 Axes>",
      "image/png": "[encoded data removed]"
     },
     "metadata": {
      "needs_background": "light"
     },
     "output_type": "display_data"
    }
   ],
   "source": [
    "# Ribba\n",
    "my = RibbaModel(\n",
    "    lambda_p=0.121,\n",
    "    delta_qp=  0.00867,\n",
    "    gamma_q  = 0.729, \n",
    "    gamma_p = 0.729,  \n",
    "    KDE = 0.24, \n",
    "    k_qpp = 0.0031, \n",
    "    k_pq = 0.0295, \n",
    "    K = 100.0 \n",
    ")\n",
    "\n",
    "t = np.linspace(-100,100,100)\n",
    "y = my.run(\n",
    "    t =t,\n",
    "    P=7.13,\n",
    "    Q=41.2,\n",
    "    Q_p=0.0,\n",
    "    C=0.0\n",
    ")\n",
    "\n",
    "plt.plot(t,y[:,0],label=\"P\")\n",
    "plt.plot(t,y[:,1],label=\"Q\")\n",
    "plt.plot(t,y[:,2],label=\"Q_p\")\n",
    "plt.plot(t,y[:,3],label=\"C\")\n",
    "\n",
    "\n",
    "plt.legend(loc=\"upper left\")\n",
    "for i in df.id.unique():\n",
    "    patient = df[df.id ==i]\n",
    "    plt.scatter(patient.t,patient.mtd)\n",
    "\n",
    "plt.xlabel(\"time [months]\")\n",
    "plt.ylabel(\"mtd [mm]\")\n",
    "\n",
    "plt.show()"
   ]
  },
  {
   "cell_type": "code",
   "execution_count": null,
   "id": "b83ce6b5",
   "metadata": {
    "pycharm": {
     "name": "#%%\n"
    }
   },
   "outputs": [],
   "source": [
    "class RibbaModel():\n",
    "\n",
    "    def __init__(self,lambda_p,delta_qp,gamma_q,gamma_p,KDE,k_qpp,k_pq,K):\n",
    "        self.lambda_p = lambda_p # the rate constant of growth used in the logistic expression for the expansion of proliferative tissue. Tumor specific\n",
    "        self.delta_qp = delta_qp  # rate constant for elimination of the damaged quiescent tissue.\n",
    "        self.gamma_q =gamma_q # damages in quiescent tissue. Treatment specific\n",
    "        self.gamma_p =gamma_p # damages in proliferative tissue. Treatment specific\n",
    "        self.KDE = KDE # KDE is the rate constant for the decay of the PCV concentration in plasma, denoted C.\n",
    "        self.k_qpp =k_qpp # the rate constant for transfer from damaged quiescent tissue to proliferative tissue,\n",
    "        self.k_pq = k_pq # the rate constant for transition from proliferation to quiescence. Tumor specific\n",
    "        self.K =K # fixed maximal tumor size 100 mm \n",
    "        \n",
    "    def run(self,t,P,Q,Q_p,C):\n",
    "        \n",
    "        y = odeint(RibbaModel.equations,[P,Q,Q_p],t,args=(self.lambda_p,self.delta_qp,self.gamma_q,self.gamma_p,self.KDE,self.k_qpp,self.k_pq,self.K))\n",
    "        return y\n",
    "    \n",
    "    \n",
    "    \"\"\"\n",
    "    P  #proliferative tissue\n",
    "    C  #drug concentration in plasma\n",
    "    Q_p =  damaged quiescent tissue\n",
    "    Q     quiescent tissue\n",
    "    \"\"\"\n",
    "    @staticmethod\n",
    "    def equations(y,t,lambda_p,delta_qp,gamma_q,gamma_p,KDE,k_qpp,k_pq,K):\n",
    "        [P,Q, Q_p] = y\n",
    "        \n",
    "        \n",
    "        if t<0:\n",
    "            C=0.0\n",
    "        elif t>0 and t<10:\n",
    "            C=1.0\n",
    "        else:\n",
    "            C=0.0\n",
    "            \n",
    "\n",
    "        dCdt = - KDE * C\n",
    "        dPdt = lambda_p * P*(1 - (P + Q + Q_p)/K) + k_qpp * Q_p - k_pq * P - gamma_p * C * KDE * P\n",
    "        dQdt = k_pq * P - gamma_q * C * KDE * Q\n",
    "        dQ_pdt = gamma_q * C *KDE * Q - k_qpp * Q_p - delta_qp * Q_p\n",
    "        return [dPdt,dQdt,dQ_pdt]"
   ]
  },
  {
   "cell_type": "code",
   "execution_count": null,
   "outputs": [],
   "source": [
    "# dr Siwik\n",
    "\n",
    "\n",
    "def to_volume(mtd):\n",
    "    return math.pi * mtd**3/6\n",
    "\n",
    "\n",
    "def preprocess(mtd):\n",
    "    val = to_volume(mtd)\n",
    "    return val/1500\n",
    "\n",
    "my = RibbaModel(\n",
    "    lambda_p=0.6326,\n",
    "    delta_qp=  0.6455,\n",
    "    gamma_q  = 1.3495, \n",
    "    gamma_p = 4.6922,  \n",
    "    KDE = 0.10045, \n",
    "    k_qpp = 0.0,\n",
    "    k_pq = 0.43562,\n",
    "    K = 192.418\n",
    ")\n",
    "\n",
    "t = np.linspace(-10,70,100)\n",
    "y = my.run(\n",
    "    t =t,\n",
    "    P=4.7279,\n",
    "    Q=48.5147,\n",
    "    Q_p=0.0,\n",
    "    C=0.0\n",
    ")\n",
    "P = y[:,0]\n",
    "Q = y[:,1]\n",
    "Q_p = y[:,2]\n",
    "\n",
    "\n",
    "plt.plot(t,y[:,0],label=\"P\")\n",
    "plt.plot(t,y[:,1],label=\"Q\")\n",
    "plt.plot(t,y[:,2],label=\"Q_p\")\n",
    "plt.plot(t,P+Q+Q_p, label=\"P+Q+Q_p\")\n",
    "plt.legend(loc=\"lower right\")\n",
    "\n",
    "\n",
    "df4 = pd.read_csv('data/ribba/fig4.csv',names = ['t','mtd','id'])\n",
    "patient = df4[df4.id ==2]\n",
    "# display(patient)\n",
    "patient['mtd'] = patient['mtd'].map(lambda x: preprocess(x))\n",
    "# display(patient)\n",
    "\n",
    "plt.scatter(patient.t,patient.mtd)\n",
    "\n",
    "\n",
    "plt.xlabel(\"time [months]\")\n",
    "plt.ylabel(\"mtd [mm]\")\n",
    "\n",
    "#plt.show()"
   ],
   "metadata": {
    "collapsed": false,
    "pycharm": {
     "name": "#%%\n"
    }
   }
  },
  {
   "cell_type": "code",
   "execution_count": null,
   "outputs": [],
   "source": [
    "\n",
    "mtd = P+Q+Q_p  #TODO: check\n",
    "\n",
    "df_gen = pd.DataFrame({'t' :t,'mtd' :mtd})\n",
    "display(df_gen)\n",
    "df_gen.to_csv('data/ribba/out/gen.csv',index=False)\n",
    "\n",
    "df_gen = pd.read_csv('data/ribba/out/gen.csv')\n"
   ],
   "metadata": {
    "collapsed": false,
    "pycharm": {
     "name": "#%%\n"
    }
   }
  },
  {
   "cell_type": "markdown",
   "id": "820eec8a",
   "metadata": {
    "pycharm": {
     "name": "#%% md\n"
    }
   },
   "source": [
    "## Multiple drug application"
   ]
  },
  {
   "cell_type": "code",
   "execution_count": 20,
   "id": "ec6aea3e",
   "metadata": {
    "pycharm": {
     "name": "#%%\n"
    }
   },
   "outputs": [
    {
     "data": {
      "text/plain": "<Figure size 432x288 with 1 Axes>",
      "image/png": "[encoded data removed]"
     },
     "metadata": {
      "needs_background": "light"
     },
     "output_type": "display_data"
    }
   ],
   "source": [
    "class RibbaModel():\n",
    "\n",
    "    def __init__(self,lambda_p,delta_qp,gamma_q,gamma_p,KDE,k_qpp,k_pq,K):\n",
    "        self.lambda_p = lambda_p # the rate constant of growth used in the logistic expression for the expansion of proliferative tissue. Tumor specific\n",
    "        self.delta_qp = delta_qp  # rate constant for elimination of the damaged quiescent tissue.\n",
    "        self.gamma_q =gamma_q # damages in quiescent tissue. Treatment specific\n",
    "        self.gamma_p =gamma_p # damages in proliferative tissue. Treatment specific\n",
    "        self.KDE = KDE # KDE is the rate constant for the decay of the PCV concentration in plasma, denoted C.\n",
    "        self.k_qpp =k_qpp # the rate constant for transfer from damaged quiescent tissue to proliferative tissue,\n",
    "        self.k_pq = k_pq # the rate constant for transition from proliferation to quiescence. Tumor specific\n",
    "        self.K =K # fixed maximal tumor size 100 mm \n",
    "        \n",
    "    def run(self,P,Q,Q_p):\n",
    "        okresy = []\n",
    "        okresy.append({\"start\": 0, \"end\" :70})\n",
    "        okresy.append({\"start\": 70, \"end\" :120})\n",
    "        okresy.append({\"start\": 120, \"end\" :150})\n",
    "        okresy.append({\"start\": 150, \"end\" :170})\n",
    "        # okresy.append({\"start\": 300, \"end\" :400})\n",
    "        # okresy.append({\"start\": 400, \"end\" :500})\n",
    "        # okresy.append({\"start\": 500, \"end\" :600})\n",
    "\n",
    "        y_sum = np.empty((0,4))\n",
    "        t_sum = np.empty((0))\n",
    "\n",
    "        for okres in okresy:\n",
    "            t = np.linspace(okres[\"start\"],okres[\"end\"])\n",
    "            t_sum =np.concatenate((t_sum,t))\n",
    "        # solve ODE\n",
    "            C =1\n",
    "            y = odeint(RibbaModel.equations,[P,Q,Q_p,C],t,args=(self.lambda_p,self.delta_qp,self.gamma_q,self.gamma_p,self.KDE,self.k_qpp,self.k_pq,self.K))\n",
    "            y_sum = np.vstack((y_sum,y))\n",
    "            P = y[-1,0]\n",
    "            Q = y[-1,1]\n",
    "            Q_p = y[-1,2]\n",
    "            # C = y[:-1,3]\n",
    "\n",
    "\n",
    "        return (t_sum,y_sum)\n",
    "\n",
    "    @staticmethod\n",
    "    def equations(y,t,lambda_p,delta_qp,gamma_q,gamma_p,KDE,k_qpp,k_pq,K):\n",
    "        [P,Q, Q_p,C] = y\n",
    "\n",
    "        dCdt = - KDE * C\n",
    "        dPdt = lambda_p * P*(1 - (P + Q + Q_p)/K) + k_qpp * Q_p - k_pq * P - gamma_p * C * KDE * P\n",
    "        dQdt = k_pq * P - gamma_q * C * KDE * Q\n",
    "        dQ_pdt = gamma_q * C *KDE * Q - k_qpp * Q_p - delta_qp * Q_p\n",
    "\n",
    "        # print(t,y[3])\n",
    "\n",
    "        return [dPdt,dQdt,dQ_pdt,dCdt]\n",
    "\n",
    "def to_volume(mtd):\n",
    "    return math.pi * mtd**3/6\n",
    "\n",
    "\n",
    "def preprocess(mtd):\n",
    "    val = to_volume(mtd)\n",
    "    return val/1500\n",
    "\n",
    "my = RibbaModel(\n",
    "    lambda_p=0.6326,\n",
    "    delta_qp=  0.6455,\n",
    "    gamma_q  = 1.3495,\n",
    "    gamma_p = 4.6922,\n",
    "    KDE = 0.10045,\n",
    "    k_qpp = 0.0,\n",
    "    k_pq = 0.43562,\n",
    "    K = 192.418\n",
    ")\n",
    "\n",
    "# y = my.run(\n",
    "#     P=4.7279,\n",
    "#     Q=48.5147,\n",
    "#     Q_p=0.0,\n",
    "# )\n",
    "y = my.run(\n",
    "    P=4.7279,\n",
    "    Q=78.5147,\n",
    "    Q_p=0.0,\n",
    ")\n",
    "\n",
    "t, y = y\n",
    "P = y[:,0]\n",
    "Q = y[:,1]\n",
    "Q_p = y[:,2]\n",
    "\n",
    "\n",
    "plt.plot(t,P,label=\"P\")\n",
    "plt.plot(t,Q,label=\"Q\")\n",
    "plt.plot(t,Q_p,label=\"Q_p\")\n",
    "plt.plot(t,P+Q+Q_p, label=\"sum= P+Q+Q_p\")\n",
    "plt.legend(loc=\"upper right\")\n",
    "\n",
    "\n",
    "df4 = pd.read_csv(f'{ROOT_DIR}/data/ribba/fig4.csv',names = ['t','mtd','id'])\n",
    "patient = df4[df4.id ==2]\n",
    "# display(patient)\n",
    "patient['mtd'] = patient['mtd'].map(lambda x: preprocess(x))\n",
    "# display(patient)\n",
    "\n",
    "plt.scatter(patient.t,patient.mtd)\n",
    "\n",
    "\n",
    "plt.xlabel(\"time [months]\")\n",
    "plt.ylabel(\"mtd [mm]\")\n",
    "\n",
    "plt.show()"
   ]
  },
  {
   "cell_type": "code",
   "execution_count": null,
   "id": "0a1561f8",
   "metadata": {
    "pycharm": {
     "name": "#%%\n"
    }
   },
   "outputs": [],
   "source": [
    "P0 = 0.1*list(patient.mtd)[0]\n",
    "Q0 = 0.9*list(patient.mtd)[0]\n",
    "Q_p0 = 0.0 # We assumed Q_p0 = 0 when t=0 in the absence of treatment.\n",
    "C =1.0 #??\n",
    "\n",
    "t = np.linspace(-100,100,100)\n",
    "\n",
    "y = odeint(model,[P0,Q0,Q_p0,C],t)\n",
    "\n",
    "# print(y)\n",
    "\n",
    "print(y[:,0])\n",
    "plt.scatter(list(patient.t),list(patient.mtd))\n",
    "plt.plot(t,y)"
   ]
  },
  {
   "cell_type": "code",
   "execution_count": null,
   "id": "63433cf1",
   "metadata": {
    "pycharm": {
     "name": "#%%\n"
    }
   },
   "outputs": [],
   "source": [
    "# df = df.sort(t)\n",
    "patient = df[df.id ==1]\n",
    "list(patient.t)[0]"
   ]
  },
  {
   "cell_type": "code",
   "execution_count": null,
   "id": "47d660ab",
   "metadata": {
    "pycharm": {
     "name": "#%%\n"
    }
   },
   "outputs": [],
   "source": [
    "#(Simplex, 3Dvar, ABC-SMC),"
   ]
  },
  {
   "cell_type": "code",
   "execution_count": null,
   "id": "04fa9038",
   "metadata": {
    "pycharm": {
     "name": "#%%\n"
    }
   },
   "outputs": [],
   "source": []
  },
  {
   "cell_type": "code",
   "execution_count": null,
   "id": "bf00ab47",
   "metadata": {
    "pycharm": {
     "name": "#%%\n"
    }
   },
   "outputs": [],
   "source": [
    "from pymoo.algorithms.moo.nsga2 import NSGA2\n",
    "from pymoo.factory import get_problem\n",
    "from pymoo.optimize import minimize\n",
    "\n",
    "import numpy as np\n",
    "from pymoo.core.problem import ElementwiseProblem\n",
    "\n",
    "class MyProblem(ElementwiseProblem):\n",
    "\n",
    "    def __init__(self):\n",
    "        super().__init__(n_var=2,\n",
    "                         n_obj=2,\n",
    "                         n_constr=2,\n",
    "                         xl=np.array([-2,-2]),\n",
    "                         xu=np.array([2,2]))\n",
    "\n",
    "    def _evaluate(self, x, out, *args, **kwargs):\n",
    "        f1 = 100 * (x[0]**2 + x[1]**2)\n",
    "        f2 = (x[0]-1)**2 + x[1]**2\n",
    "\n",
    "        g1 = 2*(x[0]-0.1) * (x[0]-0.9) / 0.18\n",
    "        g2 = - 20*(x[0]-0.4) * (x[0]-0.6) / 4.8\n",
    "\n",
    "        out[\"F\"] = [f1, f2]\n",
    "        out[\"G\"] = [g1, g2]\n",
    "\n",
    "\n",
    "problem = MyProblem()\n",
    "\n",
    "\n",
    "algorithm = NSGA2(pop_size=100)\n",
    "\n",
    "res = minimize(problem,\n",
    "               algorithm,\n",
    "               ('n_gen', 10),\n",
    "               seed=1,\n",
    "               verbose=True)\n",
    "\n",
    "# calculate a hash to show that all executions end with the same result\n",
    "print(\"hash\", res.F.sum())\n"
   ]
  }
 ],
 "metadata": {
  "kernelspec": {
   "name": "conda-env-ml-py",
   "language": "python",
   "display_name": "Python [conda env:ml]"
  },
  "language_info": {
   "codemirror_mode": {
    "name": "ipython",
    "version": 3
   },
   "file_extension": ".py",
   "mimetype": "text/x-python",
   "name": "python",
   "nbconvert_exporter": "python",
   "pygments_lexer": "ipython3",
   "version": "3.9.7"
  }
 },
 "nbformat": 4,
 "nbformat_minor": 5
}