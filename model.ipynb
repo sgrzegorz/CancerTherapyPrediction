{
 "cells": [
  {
   "cell_type": "code",
   "execution_count": 1,
   "id": "1bbdd0b3",
   "metadata": {},
   "outputs": [],
   "source": [
    "import numpy as np\n",
    "from scipy.integrate import odeint\n",
    "import matplotlib.pyplot as plt\n",
    "\n",
    "import pandas as pd\n",
    "import math\n",
    "pd.options.mode.chained_assignment = None  # default='warn'\n"
   ]
  },
  {
   "cell_type": "markdown",
   "id": "703350ee",
   "metadata": {},
   "source": [
    "przepisać równanie ribby\n",
    "skopiować dane ribby dotyczące chorych"
   ]
  },
  {
   "cell_type": "code",
   "execution_count": null,
   "id": "aff278de",
   "metadata": {},
   "outputs": [],
   "source": []
  },
  {
   "cell_type": "code",
   "execution_count": 2,
   "id": "b2f0619d",
   "metadata": {},
   "outputs": [
    {
     "data": {
      "text/plain": [
       "array([0, 1, 2, 3])"
      ]
     },
     "execution_count": 2,
     "metadata": {},
     "output_type": "execute_result"
    }
   ],
   "source": [
    "\n",
    "# df =  pd.read_csv('data/fig1_mtd_pcv_00.csv',names = ['t','mtd','id'],header=None)\n",
    "df =  pd.read_csv('data/fig1_mtd_pcv_00.csv',names = ['t','mtd','id'])\n",
    "df1 = pd.read_csv('data/fig1_mtd_pcv_01.csv',names = ['t','mtd','id'])\n",
    "df.id.unique()"
   ]
  },
  {
   "cell_type": "code",
   "execution_count": 3,
   "id": "32191e22",
   "metadata": {},
   "outputs": [
    {
     "data": {
      "text/plain": [
       "array([201, 202, 203, 204, 205, 206])"
      ]
     },
     "execution_count": 3,
     "metadata": {},
     "output_type": "execute_result"
    }
   ],
   "source": [
    "df1.id.unique()"
   ]
  },
  {
   "cell_type": "code",
   "execution_count": 4,
   "id": "7e4ffa96",
   "metadata": {},
   "outputs": [
    {
     "ename": "NameError",
     "evalue": "name 'RibbaModel' is not defined",
     "output_type": "error",
     "traceback": [
      "\u001b[0;31m---------------------------------------------------------------------------\u001b[0m",
      "\u001b[0;31mNameError\u001b[0m                                 Traceback (most recent call last)",
      "\u001b[0;32m/tmp/ipykernel_289809/1055873082.py\u001b[0m in \u001b[0;36m<module>\u001b[0;34m\u001b[0m\n\u001b[1;32m      1\u001b[0m \u001b[0;31m# Ribba\u001b[0m\u001b[0;34m\u001b[0m\u001b[0;34m\u001b[0m\u001b[0m\n\u001b[0;32m----> 2\u001b[0;31m my = RibbaModel(\n\u001b[0m\u001b[1;32m      3\u001b[0m     \u001b[0mlambda_p\u001b[0m\u001b[0;34m=\u001b[0m\u001b[0;36m0.121\u001b[0m\u001b[0;34m,\u001b[0m\u001b[0;34m\u001b[0m\u001b[0;34m\u001b[0m\u001b[0m\n\u001b[1;32m      4\u001b[0m     \u001b[0mdelta_qp\u001b[0m\u001b[0;34m=\u001b[0m  \u001b[0;36m0.00867\u001b[0m\u001b[0;34m,\u001b[0m\u001b[0;34m\u001b[0m\u001b[0;34m\u001b[0m\u001b[0m\n\u001b[1;32m      5\u001b[0m     \u001b[0mgamma_q\u001b[0m  \u001b[0;34m=\u001b[0m \u001b[0;36m0.729\u001b[0m\u001b[0;34m,\u001b[0m\u001b[0;34m\u001b[0m\u001b[0;34m\u001b[0m\u001b[0m\n",
      "\u001b[0;31mNameError\u001b[0m: name 'RibbaModel' is not defined"
     ]
    }
   ],
   "source": [
    "# Ribba\n",
    "my = RibbaModel(\n",
    "    lambda_p=0.121,\n",
    "    delta_qp=  0.00867,\n",
    "    gamma_q  = 0.729, \n",
    "    gamma_p = 0.729,  \n",
    "    KDE = 0.24, \n",
    "    k_qpp = 0.0031, \n",
    "    k_pq = 0.0295, \n",
    "    K = 100.0 \n",
    ")\n",
    "\n",
    "t = np.linspace(-100,100,100)\n",
    "y = my.run(\n",
    "    t =t,\n",
    "    P=7.13,\n",
    "    Q=41.2,\n",
    "    Q_p=0.0,\n",
    "    C=0.0\n",
    ")\n",
    "\n",
    "plt.plot(t,y[:,0],label=\"P\")\n",
    "plt.plot(t,y[:,1],label=\"Q\")\n",
    "plt.plot(t,y[:,2],label=\"Q_p\")\n",
    "plt.plot(t,y[:,3],label=\"C\")\n",
    "\n",
    "\n",
    "plt.legend(loc=\"upper left\")\n",
    "for i in df.id.unique():\n",
    "    patient = df[df.id ==i]\n",
    "    plt.scatter(patient.t,patient.mtd)\n",
    "\n",
    "plt.xlabel(\"time [months]\")\n",
    "plt.ylabel(\"mtd [mm]\")\n",
    "\n",
    "plt.show()"
   ]
  },
  {
   "cell_type": "code",
   "execution_count": 16,
   "id": "b83ce6b5",
   "metadata": {},
   "outputs": [],
   "source": [
    "class RibbaModel():\n",
    "\n",
    "    def __init__(self,lambda_p,delta_qp,gamma_q,gamma_p,KDE,k_qpp,k_pq,K):\n",
    "        self.lambda_p = lambda_p # the rate constant of growth used in the logistic expression for the expansion of proliferative tissue. Tumor specific\n",
    "        self.delta_qp = delta_qp  # rate constant for elimination of the damaged quiescent tissue.\n",
    "        self.gamma_q =gamma_q # damages in quiescent tissue. Treatment specific\n",
    "        self.gamma_p =gamma_p # damages in proliferative tissue. Treatment specific\n",
    "        self.KDE = KDE # KDE is the rate constant for the decay of the PCV concentration in plasma, denoted C.\n",
    "        self.k_qpp =k_qpp # the rate constant for transfer from damaged quiescent tissue to proliferative tissue,\n",
    "        self.k_pq = k_pq # the rate constant for transition from proliferation to quiescence. Tumor specific\n",
    "        self.K =K # fixed maximal tumor size 100 mm \n",
    "        \n",
    "    def run(self,t,P,Q,Q_p,C):\n",
    "        \n",
    "        y = odeint(RibbaModel.equations,[P,Q,Q_p],t,args=(self.lambda_p,self.delta_qp,self.gamma_q,self.gamma_p,self.KDE,self.k_qpp,self.k_pq,self.K))\n",
    "        return y\n",
    "    \n",
    "    \n",
    "    \"\"\"\n",
    "    P  #proliferative tissue\n",
    "    C  #drug concentration in plasma\n",
    "    Q_p =  damaged quiescent tissue\n",
    "    Q     quiescent tissue\n",
    "    \"\"\"\n",
    "    @staticmethod\n",
    "    def equations(y,t,lambda_p,delta_qp,gamma_q,gamma_p,KDE,k_qpp,k_pq,K):\n",
    "        [P,Q, Q_p] = y\n",
    "        \n",
    "        \n",
    "        if t<0:\n",
    "            C=0.0\n",
    "        elif t>0 and t<10:\n",
    "            C=1.0\n",
    "        else:\n",
    "            C=0.0\n",
    "            \n",
    "\n",
    "        dCdt = - KDE * C\n",
    "        dPdt = lambda_p * P*(1 - (P + Q + Q_p)/K) + k_qpp * Q_p - k_pq * P - gamma_p * C * KDE * P\n",
    "        dQdt = k_pq * P - gamma_q * C * KDE * Q\n",
    "        dQ_pdt = gamma_q * C *KDE * Q - k_qpp * Q_p - delta_qp * Q_p\n",
    "        return [dPdt,dQdt,dQ_pdt]"
   ]
  },
  {
   "cell_type": "code",
   "execution_count": 17,
   "id": "03811ceb",
   "metadata": {},
   "outputs": [
    {
     "data": {
      "text/plain": [
       "Text(0, 0.5, 'mtd [mm]')"
      ]
     },
     "execution_count": 17,
     "metadata": {},
     "output_type": "execute_result"
    },
    {
     "data": {
      "image/png": "[encoded data removed]",
      "text/plain": [
       "<Figure size 432x288 with 1 Axes>"
      ]
     },
     "metadata": {
      "needs_background": "light"
     },
     "output_type": "display_data"
    }
   ],
   "source": [
    "# dr Siwik\n",
    "\n",
    "\n",
    "def to_volume(mtd):\n",
    "    return math.pi * mtd**3/6\n",
    "\n",
    "\n",
    "def preprocess(mtd):\n",
    "    val = to_volume(mtd)\n",
    "    return val/1500\n",
    "\n",
    "my = RibbaModel(\n",
    "    lambda_p=0.6326,\n",
    "    delta_qp=  0.6455,\n",
    "    gamma_q  = 1.3495, \n",
    "    gamma_p = 4.6922,  \n",
    "    KDE = 0.10045, \n",
    "    k_qpp = 0.0,\n",
    "    k_pq = 0.43562,\n",
    "    K = 192.418\n",
    ")\n",
    "\n",
    "t = np.linspace(-10,70,100)\n",
    "y = my.run(\n",
    "    t =t,\n",
    "    P=4.7279,\n",
    "    Q=48.5147,\n",
    "    Q_p=0.0,\n",
    "    C=0.0\n",
    ")\n",
    "P = y[:,0]\n",
    "Q = y[:,1]\n",
    "Q_p = y[:,2]\n",
    "\n",
    "\n",
    "plt.plot(t,y[:,0],label=\"P\")\n",
    "plt.plot(t,y[:,1],label=\"Q\")\n",
    "plt.plot(t,y[:,2],label=\"Q_p\")\n",
    "plt.plot(t,P+Q+Q_p, label=\"P+Q+Q_p\")\n",
    "plt.legend(loc=\"lower right\")\n",
    "\n",
    "\n",
    "df4 = pd.read_csv('data/fig4.csv',names = ['t','mtd','id'])\n",
    "patient = df4[df4.id ==2]\n",
    "# display(patient)\n",
    "patient['mtd'] = patient['mtd'].map(lambda x: preprocess(x))\n",
    "# display(patient)\n",
    "\n",
    "plt.scatter(patient.t,patient.mtd)\n",
    "\n",
    "\n",
    "plt.xlabel(\"time [months]\")\n",
    "plt.ylabel(\"mtd [mm]\")\n",
    "\n",
    "#plt.show()"
   ]
  },
  {
   "cell_type": "code",
   "execution_count": 18,
   "id": "f9006ded",
   "metadata": {},
   "outputs": [
    {
     "data": {
      "text/html": [
       "<div>\n",
       "<style scoped>\n",
       "    .dataframe tbody tr th:only-of-type {\n",
       "        vertical-align: middle;\n",
       "    }\n",
       "\n",
       "    .dataframe tbody tr th {\n",
       "        vertical-align: top;\n",
       "    }\n",
       "\n",
       "    .dataframe thead th {\n",
       "        text-align: right;\n",
       "    }\n",
       "</style>\n",
       "<table border=\"1\" class=\"dataframe\">\n",
       "  <thead>\n",
       "    <tr style=\"text-align: right;\">\n",
       "      <th></th>\n",
       "      <th>t</th>\n",
       "      <th>mtd</th>\n",
       "    </tr>\n",
       "  </thead>\n",
       "  <tbody>\n",
       "    <tr>\n",
       "      <th>0</th>\n",
       "      <td>-10.000000</td>\n",
       "      <td>53.242600</td>\n",
       "    </tr>\n",
       "    <tr>\n",
       "      <th>1</th>\n",
       "      <td>-9.191919</td>\n",
       "      <td>54.993816</td>\n",
       "    </tr>\n",
       "    <tr>\n",
       "      <th>2</th>\n",
       "      <td>-8.383838</td>\n",
       "      <td>56.745599</td>\n",
       "    </tr>\n",
       "    <tr>\n",
       "      <th>3</th>\n",
       "      <td>-7.575758</td>\n",
       "      <td>58.489580</td>\n",
       "    </tr>\n",
       "    <tr>\n",
       "      <th>4</th>\n",
       "      <td>-6.767677</td>\n",
       "      <td>60.217639</td>\n",
       "    </tr>\n",
       "    <tr>\n",
       "      <th>...</th>\n",
       "      <td>...</td>\n",
       "      <td>...</td>\n",
       "    </tr>\n",
       "    <tr>\n",
       "      <th>95</th>\n",
       "      <td>66.767677</td>\n",
       "      <td>81.050044</td>\n",
       "    </tr>\n",
       "    <tr>\n",
       "      <th>96</th>\n",
       "      <td>67.575758</td>\n",
       "      <td>82.019317</td>\n",
       "    </tr>\n",
       "    <tr>\n",
       "      <th>97</th>\n",
       "      <td>68.383838</td>\n",
       "      <td>82.925604</td>\n",
       "    </tr>\n",
       "    <tr>\n",
       "      <th>98</th>\n",
       "      <td>69.191919</td>\n",
       "      <td>83.771377</td>\n",
       "    </tr>\n",
       "    <tr>\n",
       "      <th>99</th>\n",
       "      <td>70.000000</td>\n",
       "      <td>84.559285</td>\n",
       "    </tr>\n",
       "  </tbody>\n",
       "</table>\n",
       "<p>100 rows × 2 columns</p>\n",
       "</div>"
      ],
      "text/plain": [
       "            t        mtd\n",
       "0  -10.000000  53.242600\n",
       "1   -9.191919  54.993816\n",
       "2   -8.383838  56.745599\n",
       "3   -7.575758  58.489580\n",
       "4   -6.767677  60.217639\n",
       "..        ...        ...\n",
       "95  66.767677  81.050044\n",
       "96  67.575758  82.019317\n",
       "97  68.383838  82.925604\n",
       "98  69.191919  83.771377\n",
       "99  70.000000  84.559285\n",
       "\n",
       "[100 rows x 2 columns]"
      ]
     },
     "metadata": {},
     "output_type": "display_data"
    }
   ],
   "source": [
    "\n",
    "mtd = P+Q+Q_p  #TODO: check\n",
    "\n",
    "df_gen = pd.DataFrame({'t' :t,'mtd' :mtd})\n",
    "display(df_gen)\n",
    "df_gen.to_csv('out/gen.csv',index=False)\n",
    "\n",
    "df_gen = pd.read_csv('out/gen.csv')\n"
   ]
  },
  {
   "cell_type": "markdown",
   "id": "820eec8a",
   "metadata": {},
   "source": [
    "## Multiple drug application"
   ]
  },
  {
   "cell_type": "code",
   "execution_count": 25,
   "id": "ec6aea3e",
   "metadata": {},
   "outputs": [],
   "source": [
    "class RibbaModel():\n",
    "\n",
    "    def __init__(self,lambda_p,delta_qp,gamma_q,gamma_p,KDE,k_qpp,k_pq,K):\n",
    "        self.lambda_p = lambda_p # the rate constant of growth used in the logistic expression for the expansion of proliferative tissue. Tumor specific\n",
    "        self.delta_qp = delta_qp  # rate constant for elimination of the damaged quiescent tissue.\n",
    "        self.gamma_q =gamma_q # damages in quiescent tissue. Treatment specific\n",
    "        self.gamma_p =gamma_p # damages in proliferative tissue. Treatment specific\n",
    "        self.KDE = KDE # KDE is the rate constant for the decay of the PCV concentration in plasma, denoted C.\n",
    "        self.k_qpp =k_qpp # the rate constant for transfer from damaged quiescent tissue to proliferative tissue,\n",
    "        self.k_pq = k_pq # the rate constant for transition from proliferation to quiescence. Tumor specific\n",
    "        self.K =K # fixed maximal tumor size 100 mm \n",
    "        \n",
    "    def run(self,t,P,Q,Q_p,C):\n",
    "        \n",
    "        y = odeint(RibbaModel.equations,[P,Q,Q_p],t,args=(self.lambda_p,self.delta_qp,self.gamma_q,self.gamma_p,self.KDE,self.k_qpp,self.k_pq,self.K))\n",
    "        return y\n",
    "    \n",
    "    \n",
    "    \"\"\"\n",
    "    P  #proliferative tissue\n",
    "    C  #drug concentration in plasma\n",
    "    Q_p =  damaged quiescent tissue\n",
    "    Q     quiescent tissue\n",
    "    \"\"\"\n",
    "    @staticmethod\n",
    "    def equations(y,t,lambda_p,delta_qp,gamma_q,gamma_p,KDE,k_qpp,k_pq,K):\n",
    "        [P,Q, Q_p] = y\n",
    "        \n",
    "        \n",
    "        if t<0:\n",
    "            C=0.0\n",
    "        elif t>0 and t<10:\n",
    "            C=1.0 \n",
    "        elif t>50 and t<55:\n",
    "            C=1.0\n",
    "        elif t>70 and t<75:\n",
    "            C=1.0\n",
    "        elif t>100 and t<110:\n",
    "            C=1.0\n",
    "        elif t>120 and t<125:\n",
    "            C=1.0\n",
    "        elif t>155 and t<160:\n",
    "            C=1.0\n",
    "        elif t>170 and t<180:\n",
    "            C=1.0\n",
    "        else:\n",
    "            C=0.0\n",
    "            \n",
    "\n",
    "        dCdt = - KDE * C\n",
    "        dPdt = lambda_p * P*(1 - (P + Q + Q_p)/K) + k_qpp * Q_p - k_pq * P - gamma_p * C * KDE * P\n",
    "        dQdt = k_pq * P - gamma_q * C * KDE * Q\n",
    "        dQ_pdt = gamma_q * C *KDE * Q - k_qpp * Q_p - delta_qp * Q_p\n",
    "        return [dPdt,dQdt,dQ_pdt]"
   ]
  },
  {
   "cell_type": "code",
   "execution_count": 27,
   "id": "937b0b46",
   "metadata": {},
   "outputs": [
    {
     "data": {
      "text/plain": [
       "Text(0, 0.5, 'mtd [mm]')"
      ]
     },
     "execution_count": 27,
     "metadata": {},
     "output_type": "execute_result"
    },
    {
     "data": {
      "image/png": "[encoded data removed]",
      "text/plain": [
       "<Figure size 432x288 with 1 Axes>"
      ]
     },
     "metadata": {
      "needs_background": "light"
     },
     "output_type": "display_data"
    }
   ],
   "source": [
    "\n",
    "\n",
    "def to_volume(mtd):\n",
    "    return math.pi * mtd**3/6\n",
    "\n",
    "\n",
    "def preprocess(mtd):\n",
    "    val = to_volume(mtd)\n",
    "    return val/1500\n",
    "\n",
    "my = RibbaModel(\n",
    "    lambda_p=0.6326,\n",
    "    delta_qp=  0.6455,\n",
    "    gamma_q  = 1.3495, \n",
    "    gamma_p = 4.6922,  \n",
    "    KDE = 0.10045, \n",
    "    k_qpp = 0.0,\n",
    "    k_pq = 0.43562,\n",
    "    K = 192.418\n",
    ")\n",
    "\n",
    "t = np.linspace(-10,200,500)\n",
    "y = my.run(\n",
    "    t =t,\n",
    "    P=4.7279,\n",
    "    Q=48.5147,\n",
    "    Q_p=0.0,\n",
    "    C=0.0\n",
    ")\n",
    "P = y[:,0]\n",
    "Q = y[:,1]\n",
    "Q_p = y[:,2]\n",
    "\n",
    "\n",
    "plt.plot(t,y[:,0],label=\"P\")\n",
    "plt.plot(t,y[:,1],label=\"Q\")\n",
    "plt.plot(t,y[:,2],label=\"Q_p\")\n",
    "plt.plot(t,P+Q+Q_p, label=\"P+Q+Q_p\")\n",
    "plt.legend(loc=\"lower right\")\n",
    "\n",
    "\n",
    "df4 = pd.read_csv('data/fig4.csv',names = ['t','mtd','id'])\n",
    "patient = df4[df4.id ==2]\n",
    "# display(patient)\n",
    "patient['mtd'] = patient['mtd'].map(lambda x: preprocess(x))\n",
    "# display(patient)\n",
    "\n",
    "plt.scatter(patient.t,patient.mtd)\n",
    "\n",
    "\n",
    "plt.xlabel(\"time [months]\")\n",
    "plt.ylabel(\"mtd [mm]\")\n",
    "\n",
    "#plt.show()"
   ]
  },
  {
   "cell_type": "code",
   "execution_count": 12,
   "id": "0a1561f8",
   "metadata": {},
   "outputs": [
    {
     "ename": "NameError",
     "evalue": "name 'model' is not defined",
     "output_type": "error",
     "traceback": [
      "\u001b[0;31m---------------------------------------------------------------------------\u001b[0m",
      "\u001b[0;31mNameError\u001b[0m                                 Traceback (most recent call last)",
      "\u001b[0;32m/tmp/ipykernel_289809/1322362018.py\u001b[0m in \u001b[0;36m<module>\u001b[0;34m\u001b[0m\n\u001b[1;32m      6\u001b[0m \u001b[0mt\u001b[0m \u001b[0;34m=\u001b[0m \u001b[0mnp\u001b[0m\u001b[0;34m.\u001b[0m\u001b[0mlinspace\u001b[0m\u001b[0;34m(\u001b[0m\u001b[0;34m-\u001b[0m\u001b[0;36m100\u001b[0m\u001b[0;34m,\u001b[0m\u001b[0;36m100\u001b[0m\u001b[0;34m,\u001b[0m\u001b[0;36m100\u001b[0m\u001b[0;34m)\u001b[0m\u001b[0;34m\u001b[0m\u001b[0;34m\u001b[0m\u001b[0m\n\u001b[1;32m      7\u001b[0m \u001b[0;34m\u001b[0m\u001b[0m\n\u001b[0;32m----> 8\u001b[0;31m \u001b[0my\u001b[0m \u001b[0;34m=\u001b[0m \u001b[0modeint\u001b[0m\u001b[0;34m(\u001b[0m\u001b[0mmodel\u001b[0m\u001b[0;34m,\u001b[0m\u001b[0;34m[\u001b[0m\u001b[0mP0\u001b[0m\u001b[0;34m,\u001b[0m\u001b[0mQ0\u001b[0m\u001b[0;34m,\u001b[0m\u001b[0mQ_p0\u001b[0m\u001b[0;34m,\u001b[0m\u001b[0mC\u001b[0m\u001b[0;34m]\u001b[0m\u001b[0;34m,\u001b[0m\u001b[0mt\u001b[0m\u001b[0;34m)\u001b[0m\u001b[0;34m\u001b[0m\u001b[0;34m\u001b[0m\u001b[0m\n\u001b[0m\u001b[1;32m      9\u001b[0m \u001b[0;34m\u001b[0m\u001b[0m\n\u001b[1;32m     10\u001b[0m \u001b[0;31m# print(y)\u001b[0m\u001b[0;34m\u001b[0m\u001b[0;34m\u001b[0m\u001b[0m\n",
      "\u001b[0;31mNameError\u001b[0m: name 'model' is not defined"
     ]
    }
   ],
   "source": [
    "P0 = 0.1*list(patient.mtd)[0]\n",
    "Q0 = 0.9*list(patient.mtd)[0]\n",
    "Q_p0 = 0.0 # We assumed Q_p0 = 0 when t=0 in the absence of treatment.\n",
    "C =1.0 #??\n",
    "\n",
    "t = np.linspace(-100,100,100)\n",
    "\n",
    "y = odeint(model,[P0,Q0,Q_p0,C],t)\n",
    "\n",
    "# print(y)\n",
    "\n",
    "print(y[:,0])\n",
    "plt.scatter(list(patient.t),list(patient.mtd))\n",
    "plt.plot(t,y)"
   ]
  },
  {
   "cell_type": "code",
   "execution_count": null,
   "id": "63433cf1",
   "metadata": {},
   "outputs": [],
   "source": [
    "# df = df.sort(t)\n",
    "patient = df[df.id ==1]\n",
    "list(patient.t)[0]"
   ]
  },
  {
   "cell_type": "code",
   "execution_count": null,
   "id": "47d660ab",
   "metadata": {},
   "outputs": [],
   "source": [
    "#(Simplex, 3Dvar, ABC-SMC),"
   ]
  },
  {
   "cell_type": "code",
   "execution_count": null,
   "id": "04fa9038",
   "metadata": {},
   "outputs": [],
   "source": []
  },
  {
   "cell_type": "code",
   "execution_count": 33,
   "id": "bf00ab47",
   "metadata": {},
   "outputs": [
    {
     "name": "stdout",
     "output_type": "stream",
     "text": [
      "=====================================================================================\n",
      "n_gen |  n_eval |   cv (min)   |   cv (avg)   |  n_nds  |     eps      |  indicator  \n",
      "=====================================================================================\n",
      "    1 |     100 |  0.00000E+00 |  2.11633E+01 |       2 |            - |            -\n",
      "    2 |     200 |  0.00000E+00 |  1.235931783 |       4 |  0.328903303 |        ideal\n",
      "    3 |     300 |  0.00000E+00 |  0.00000E+00 |       7 |  0.140735357 |        ideal\n",
      "    4 |     400 |  0.00000E+00 |  0.00000E+00 |      12 |  0.034354578 |        ideal\n",
      "    5 |     500 |  0.00000E+00 |  0.00000E+00 |      17 |  0.025983976 |            f\n",
      "    6 |     600 |  0.00000E+00 |  0.00000E+00 |      25 |  0.052813168 |        ideal\n",
      "    7 |     700 |  0.00000E+00 |  0.00000E+00 |      37 |  0.006495846 |            f\n",
      "    8 |     800 |  0.00000E+00 |  0.00000E+00 |      57 |  0.019099424 |        ideal\n",
      "    9 |     900 |  0.00000E+00 |  0.00000E+00 |      71 |  0.001772657 |            f\n",
      "   10 |    1000 |  0.00000E+00 |  0.00000E+00 |      89 |  0.030528064 |        nadir\n",
      "hash 2922.7601472754623\n"
     ]
    }
   ],
   "source": [
    "from pymoo.algorithms.moo.nsga2 import NSGA2\n",
    "from pymoo.factory import get_problem\n",
    "from pymoo.optimize import minimize\n",
    "\n",
    "import numpy as np\n",
    "from pymoo.core.problem import ElementwiseProblem\n",
    "\n",
    "class MyProblem(ElementwiseProblem):\n",
    "\n",
    "    def __init__(self):\n",
    "        super().__init__(n_var=2,\n",
    "                         n_obj=2,\n",
    "                         n_constr=2,\n",
    "                         xl=np.array([-2,-2]),\n",
    "                         xu=np.array([2,2]))\n",
    "\n",
    "    def _evaluate(self, x, out, *args, **kwargs):\n",
    "        f1 = 100 * (x[0]**2 + x[1]**2)\n",
    "        f2 = (x[0]-1)**2 + x[1]**2\n",
    "\n",
    "        g1 = 2*(x[0]-0.1) * (x[0]-0.9) / 0.18\n",
    "        g2 = - 20*(x[0]-0.4) * (x[0]-0.6) / 4.8\n",
    "\n",
    "        out[\"F\"] = [f1, f2]\n",
    "        out[\"G\"] = [g1, g2]\n",
    "\n",
    "\n",
    "problem = MyProblem()\n",
    "\n",
    "\n",
    "algorithm = NSGA2(pop_size=100)\n",
    "\n",
    "res = minimize(problem,\n",
    "               algorithm,\n",
    "               ('n_gen', 10),\n",
    "               seed=1,\n",
    "               verbose=True)\n",
    "\n",
    "# calculate a hash to show that all executions end with the same result\n",
    "print(\"hash\", res.F.sum())\n"
   ]
  },
  {
   "cell_type": "code",
   "execution_count": null,
   "id": "2d86abca",
   "metadata": {},
   "outputs": [],
   "source": []
  }
 ],
 "metadata": {
  "kernelspec": {
   "display_name": "Python [conda env:ml]",
   "language": "python",
   "name": "conda-env-ml-py"
  },
  "language_info": {
   "codemirror_mode": {
    "name": "ipython",
    "version": 3
   },
   "file_extension": ".py",
   "mimetype": "text/x-python",
   "name": "python",
   "nbconvert_exporter": "python",
   "pygments_lexer": "ipython3",
   "version": "3.9.7"
  }
 },
 "nbformat": 4,
 "nbformat_minor": 5
}
