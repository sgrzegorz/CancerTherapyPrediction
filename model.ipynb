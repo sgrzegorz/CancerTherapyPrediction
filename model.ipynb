{
 "cells": [
  {
   "cell_type": "code",
   "execution_count": 1,
   "id": "1bbdd0b3",
   "metadata": {},
   "outputs": [],
   "source": [
    "import numpy as np\n",
    "from scipy.integrate import odeint\n",
    "import matplotlib.pyplot as plt\n",
    "\n",
    "import pandas as pd\n"
   ]
  },
  {
   "cell_type": "markdown",
   "id": "703350ee",
   "metadata": {},
   "source": [
    "przepisać równanie ribby\n",
    "skopiować dane ribby dotyczące chorych"
   ]
  },
  {
   "cell_type": "code",
   "execution_count": 2,
   "id": "aff278de",
   "metadata": {},
   "outputs": [],
   "source": [
    "def to_volume(mtd):\n",
    "    return math.pi * mtd**3/6"
   ]
  },
  {
   "cell_type": "code",
   "execution_count": 3,
   "id": "b2f0619d",
   "metadata": {},
   "outputs": [
    {
     "data": {
      "text/plain": [
       "array([0, 1, 2, 3])"
      ]
     },
     "execution_count": 3,
     "metadata": {},
     "output_type": "execute_result"
    }
   ],
   "source": [
    "\n",
    "# df =  pd.read_csv('data/fig1_mtd_pcv_00.csv',names = ['t','mtd','id'],header=None)\n",
    "df =  pd.read_csv('data/fig1_mtd_pcv_00.csv',names = ['t','mtd','id'])\n",
    "df1 = pd.read_csv('data/fig1_mtd_pcv_01.csv',names = ['t','mtd','id'])\n",
    "df.id.unique()"
   ]
  },
  {
   "cell_type": "code",
   "execution_count": 4,
   "id": "32191e22",
   "metadata": {},
   "outputs": [
    {
     "data": {
      "text/plain": [
       "array([201, 202, 203, 204, 205, 206])"
      ]
     },
     "execution_count": 4,
     "metadata": {},
     "output_type": "execute_result"
    }
   ],
   "source": [
    "df1.id.unique()"
   ]
  },
  {
   "cell_type": "code",
   "execution_count": 5,
   "id": "7e4ffa96",
   "metadata": {},
   "outputs": [
    {
     "data": {
      "image/png": "[encoded data removed]",
      "text/plain": [
       "<Figure size 432x288 with 1 Axes>"
      ]
     },
     "metadata": {
      "needs_background": "light"
     },
     "output_type": "display_data"
    }
   ],
   "source": [
    "class RibbaModel():\n",
    "\n",
    "    def __init__(self,lambda_p,delta_qp,gamma_q,gamma_p,KDE,k_qpp,k_pq,K):\n",
    "        self.lambda_p = lambda_p # the rate constant of growth used in the logistic expression for the expansion of proliferative tissue. Tumor specific\n",
    "        self.delta_qp = delta_qp  # rate constant for elimination of the damaged quiescent tissue.\n",
    "        self.gamma_q =gamma_q # damages in quiescent tissue. Treatment specific\n",
    "        self.gamma_p =gamma_p # damages in proliferative tissue. Treatment specific\n",
    "        self.KDE = KDE # KDE is the rate constant for the decay of the PCV concentration in plasma, denoted C.\n",
    "        self.k_qpp =k_qpp # the rate constant for transfer from damaged quiescent tissue to proliferative tissue,\n",
    "        self.k_pq = k_pq # the rate constant for transition from proliferation to quiescence. Tumor specific\n",
    "        self.K =K # fixed maximal tumor size 100 mm \n",
    "        \n",
    "    def run(self,t,P,Q,Q_p,C):\n",
    "        \n",
    "        y = odeint(RibbaModel.equations,[P,Q,Q_p,C],t,args=(self.lambda_p,self.delta_qp,self.gamma_q,self.gamma_p,self.KDE,self.k_qpp,self.k_pq,self.K))\n",
    "        return y\n",
    "    \n",
    "    \n",
    "    \"\"\"\n",
    "    P  #proliferative tissue\n",
    "    C  #drug concentration in plasma\n",
    "    Q_p =  damaged quiescent tissue\n",
    "    Q     quiescent tissue\n",
    "    \"\"\"\n",
    "    @staticmethod\n",
    "    def equations(y,t,lambda_p,delta_qp,gamma_q,gamma_p,KDE,k_qpp,k_pq,K):\n",
    "        [P,Q, Q_p, C] = y\n",
    "\n",
    "        dCdt = - KDE * C\n",
    "        dPdt = lambda_p * P*(1 - (P + Q + Q_p)/K) + k_qpp * Q_p - k_pq * P - gamma_p * C * KDE * P\n",
    "        dQdt = k_pq * P - gamma_q * C * KDE * Q\n",
    "        dQ_pdt = gamma_q * C *KDE * Q - k_qpp * Q_p - delta_qp * Q_p\n",
    "        return [dPdt,dQdt,dQ_pdt,dCdt]\n",
    "\n",
    "\n",
    "\n",
    "# Ribba\n",
    "my = RibbaModel(\n",
    "    lambda_p=0.121,\n",
    "    delta_qp=  0.00867,\n",
    "    gamma_q  = 0.729, \n",
    "    gamma_p = 0.729,  \n",
    "    KDE = 0.24, \n",
    "    k_qpp = 0.0031, \n",
    "    k_pq = 0.0295, \n",
    "    K = 100.0 \n",
    ")\n",
    "\n",
    "t = np.linspace(-100,100,100)\n",
    "y = my.run(\n",
    "    t =t,\n",
    "    P=7.13,\n",
    "    Q=41.2,\n",
    "    Q_p=0.0,\n",
    "    C=1.0\n",
    ")\n",
    "\n",
    "plt.plot(t,y[:,0],label=\"P\")\n",
    "plt.plot(t,y[:,1],label=\"Q\")\n",
    "plt.plot(t,y[:,2],label=\"Q_p\")\n",
    "plt.plot(t,y[:,3],label=\"C\")\n",
    "\n",
    "\n",
    "plt.legend(loc=\"upper left\")\n",
    "for i in df.id.unique():\n",
    "    patient = df[df.id ==i]\n",
    "    plt.scatter(patient.t,patient.mtd)\n",
    "\n",
    "plt.xlabel(\"time [months]\")\n",
    "plt.ylabel(\"mtd [mm]\")\n",
    "\n",
    "plt.show()\n"
   ]
  },
  {
   "cell_type": "code",
   "execution_count": 7,
   "id": "03811ceb",
   "metadata": {},
   "outputs": [
    {
     "data": {
      "text/html": [
       "<div>\n",
       "<style scoped>\n",
       "    .dataframe tbody tr th:only-of-type {\n",
       "        vertical-align: middle;\n",
       "    }\n",
       "\n",
       "    .dataframe tbody tr th {\n",
       "        vertical-align: top;\n",
       "    }\n",
       "\n",
       "    .dataframe thead th {\n",
       "        text-align: right;\n",
       "    }\n",
       "</style>\n",
       "<table border=\"1\" class=\"dataframe\">\n",
       "  <thead>\n",
       "    <tr style=\"text-align: right;\">\n",
       "      <th></th>\n",
       "      <th>t</th>\n",
       "      <th>mtd</th>\n",
       "      <th>id</th>\n",
       "    </tr>\n",
       "  </thead>\n",
       "  <tbody>\n",
       "  </tbody>\n",
       "</table>\n",
       "</div>"
      ],
      "text/plain": [
       "Empty DataFrame\n",
       "Columns: [t, mtd, id]\n",
       "Index: []"
      ]
     },
     "metadata": {},
     "output_type": "display_data"
    },
    {
     "data": {
      "image/png": "[encoded data removed]",
      "text/plain": [
       "<Figure size 432x288 with 1 Axes>"
      ]
     },
     "metadata": {
      "needs_background": "light"
     },
     "output_type": "display_data"
    }
   ],
   "source": [
    "# Siwik\n",
    "my = RibbaModel(\n",
    "    lambda_p=0.6326,\n",
    "    delta_qp=  0.6455,\n",
    "    gamma_q  = 1.3495, \n",
    "    gamma_p = 4.6922,  \n",
    "    KDE = 0.10045, \n",
    "    k_qpp = 0.0,\n",
    "    k_pq = 0.43562,\n",
    "    K = 192.418\n",
    ")\n",
    "\n",
    "t = np.linspace(-10,40,50)\n",
    "y = my.run(\n",
    "    t =t,\n",
    "    P=4.7279,\n",
    "    Q=48.5147,\n",
    "    Q_p=0.0,\n",
    "    C=0.0\n",
    ")\n",
    "\n",
    "plt.plot(t,y[:,0],label=\"P\")\n",
    "plt.plot(t,y[:,1],label=\"Q\")\n",
    "plt.plot(t,y[:,2],label=\"Q_p\")\n",
    "plt.plot(t,y[:,3],label=\"C\")\n",
    "plt.legend(loc=\"upper left\")\n",
    "\n",
    "\n",
    "df = pd.read_csv('data/fig4.csv',names = ['t','mtd','id'])\n",
    "patient = df[df.id ==\"2\"]\n",
    "display(patient)\n",
    "plt.scatter(patient.t,patient.mtd)\n",
    "\n",
    "\n",
    "plt.xlabel(\"time [months]\")\n",
    "plt.ylabel(\"mtd [mm]\")\n",
    "\n",
    "plt.show()"
   ]
  },
  {
   "cell_type": "code",
   "execution_count": null,
   "id": "f9006ded",
   "metadata": {},
   "outputs": [],
   "source": []
  },
  {
   "cell_type": "code",
   "execution_count": null,
   "id": "ec6aea3e",
   "metadata": {},
   "outputs": [],
   "source": []
  },
  {
   "cell_type": "code",
   "execution_count": 7,
   "id": "0a1561f8",
   "metadata": {},
   "outputs": [
    {
     "ename": "IndexError",
     "evalue": "list index out of range",
     "output_type": "error",
     "traceback": [
      "\u001b[0;31m---------------------------------------------------------------------------\u001b[0m",
      "\u001b[0;31mIndexError\u001b[0m                                Traceback (most recent call last)",
      "\u001b[0;32m/tmp/ipykernel_15930/1322362018.py\u001b[0m in \u001b[0;36m<module>\u001b[0;34m\u001b[0m\n\u001b[0;32m----> 1\u001b[0;31m \u001b[0mP0\u001b[0m \u001b[0;34m=\u001b[0m \u001b[0;36m0.1\u001b[0m\u001b[0;34m*\u001b[0m\u001b[0mlist\u001b[0m\u001b[0;34m(\u001b[0m\u001b[0mpatient\u001b[0m\u001b[0;34m.\u001b[0m\u001b[0mmtd\u001b[0m\u001b[0;34m)\u001b[0m\u001b[0;34m[\u001b[0m\u001b[0;36m0\u001b[0m\u001b[0;34m]\u001b[0m\u001b[0;34m\u001b[0m\u001b[0;34m\u001b[0m\u001b[0m\n\u001b[0m\u001b[1;32m      2\u001b[0m \u001b[0mQ0\u001b[0m \u001b[0;34m=\u001b[0m \u001b[0;36m0.9\u001b[0m\u001b[0;34m*\u001b[0m\u001b[0mlist\u001b[0m\u001b[0;34m(\u001b[0m\u001b[0mpatient\u001b[0m\u001b[0;34m.\u001b[0m\u001b[0mmtd\u001b[0m\u001b[0;34m)\u001b[0m\u001b[0;34m[\u001b[0m\u001b[0;36m0\u001b[0m\u001b[0;34m]\u001b[0m\u001b[0;34m\u001b[0m\u001b[0;34m\u001b[0m\u001b[0m\n\u001b[1;32m      3\u001b[0m \u001b[0mQ_p0\u001b[0m \u001b[0;34m=\u001b[0m \u001b[0;36m0.0\u001b[0m \u001b[0;31m# We assumed Q_p0 = 0 when t=0 in the absence of treatment.\u001b[0m\u001b[0;34m\u001b[0m\u001b[0;34m\u001b[0m\u001b[0m\n\u001b[1;32m      4\u001b[0m \u001b[0mC\u001b[0m \u001b[0;34m=\u001b[0m\u001b[0;36m1.0\u001b[0m \u001b[0;31m#??\u001b[0m\u001b[0;34m\u001b[0m\u001b[0;34m\u001b[0m\u001b[0m\n\u001b[1;32m      5\u001b[0m \u001b[0;34m\u001b[0m\u001b[0m\n",
      "\u001b[0;31mIndexError\u001b[0m: list index out of range"
     ]
    }
   ],
   "source": [
    "P0 = 0.1*list(patient.mtd)[0]\n",
    "Q0 = 0.9*list(patient.mtd)[0]\n",
    "Q_p0 = 0.0 # We assumed Q_p0 = 0 when t=0 in the absence of treatment.\n",
    "C =1.0 #??\n",
    "\n",
    "t = np.linspace(-100,100,100)\n",
    "\n",
    "y = odeint(model,[P0,Q0,Q_p0,C],t)\n",
    "\n",
    "# print(y)\n",
    "\n",
    "print(y[:,0])\n",
    "plt.scatter(list(patient.t),list(patient.mtd))\n",
    "plt.plot(t,y)"
   ]
  },
  {
   "cell_type": "code",
   "execution_count": null,
   "id": "63433cf1",
   "metadata": {},
   "outputs": [],
   "source": [
    "# df = df.sort(t)\n",
    "patient = df[df.id ==1]\n",
    "list(patient.t)[0]"
   ]
  },
  {
   "cell_type": "code",
   "execution_count": null,
   "id": "47d660ab",
   "metadata": {},
   "outputs": [],
   "source": [
    "df"
   ]
  },
  {
   "cell_type": "code",
   "execution_count": null,
   "id": "04fa9038",
   "metadata": {},
   "outputs": [],
   "source": []
  },
  {
   "cell_type": "code",
   "execution_count": null,
   "id": "bf00ab47",
   "metadata": {},
   "outputs": [],
   "source": []
  },
  {
   "cell_type": "code",
   "execution_count": null,
   "id": "2d86abca",
   "metadata": {},
   "outputs": [],
   "source": []
  }
 ],
 "metadata": {
  "kernelspec": {
   "display_name": "Python [conda env:ml]",
   "language": "python",
   "name": "conda-env-ml-py"
  },
  "language_info": {
   "codemirror_mode": {
    "name": "ipython",
    "version": 3
   },
   "file_extension": ".py",
   "mimetype": "text/x-python",
   "name": "python",
   "nbconvert_exporter": "python",
   "pygments_lexer": "ipython3",
   "version": "3.9.7"
  }
 },
 "nbformat": 4,
 "nbformat_minor": 5
}
